{
  "nbformat": 4,
  "nbformat_minor": 0,
  "metadata": {
    "colab": {
      "name": "DummyPython.ipynb",
      "provenance": [],
      "include_colab_link": true
    },
    "kernelspec": {
      "name": "python3",
      "display_name": "Python 3"
    }
  },
  "cells": [
    {
      "cell_type": "markdown",
      "metadata": {
        "id": "view-in-github",
        "colab_type": "text"
      },
      "source": [
        "<a href=\"https://colab.research.google.com/github/sangttruong/Dummy-Python/blob/master/DummyPython.ipynb\" target=\"_parent\"><img src=\"https://colab.research.google.com/assets/colab-badge.svg\" alt=\"Open In Colab\"/></a>"
      ]
    },
    {
      "cell_type": "markdown",
      "metadata": {
        "id": "_ILbohJAelLP",
        "colab_type": "text"
      },
      "source": [
        "# Python for dummy \n",
        "\n",
        "Ever since I taught myself Python, the \"Why?\" pop up quite often. I compile all my questions (and answers) here as a diary for my learning process. Happy Pythoning!"
      ]
    },
    {
      "cell_type": "code",
      "metadata": {
        "id": "AmGuUj8Weibi",
        "colab_type": "code",
        "outputId": "768f31c7-9380-4fb0-a775-336882b84dfb",
        "colab": {
          "base_uri": "https://localhost:8080/",
          "height": 35
        }
      },
      "source": [
        ""
      ],
      "execution_count": 0,
      "outputs": [
        {
          "output_type": "stream",
          "text": [
            "Hello\n"
          ],
          "name": "stdout"
        }
      ]
    }
  ]
}